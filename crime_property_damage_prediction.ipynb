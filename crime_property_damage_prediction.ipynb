{
 "cells": [
  {
   "cell_type": "code",
   "execution_count": 56,
   "metadata": {},
   "outputs": [],
   "source": [
    "import pandas as pd\n",
    "\n",
    "data = pd.read_csv(\"vara_2.csv\", delimiter=\"\\t\")"
   ]
  },
  {
   "cell_type": "code",
   "execution_count": 57,
   "metadata": {},
   "outputs": [],
   "source": [
    "import re\n",
    "from sklearn.preprocessing import MultiLabelBinarizer\n",
    "\n",
    "pattern = r\"(\\w+)\"\n",
    "liigid = data['KohtLiik'].apply(lambda x: re.findall(pattern, str(x)))\n",
    "syndmus_liik = data['SyndmusLiik'].apply(lambda x: re.findall(pattern, str(x)))\n",
    "syndmus_taiendav_liik =  data['SyndmusTaiendavStatLiik'].apply(lambda x: re.findall(pattern, str(x)))\n",
    "\n",
    "mlb = MultiLabelBinarizer()\n",
    "liigid_ohe = pd.DataFrame(mlb.fit_transform(liigid),columns=mlb.classes_, index=liigid.index)\n",
    "syndmus_liik_ohe = pd.DataFrame(mlb.fit_transform(syndmus_liik),columns=mlb.classes_, index=syndmus_liik.index)\n",
    "syndmus_taiendav_liik_ohe = pd.DataFrame(mlb.fit_transform(syndmus_taiendav_liik),columns=mlb.classes_, index=syndmus_taiendav_liik.index)\n",
    "\n",
    "liigid_ohe = liigid_ohe.drop(['nan'],axis=1)\n",
    "syndmus_liik_ohe = syndmus_liik_ohe.drop(['nan'],axis=1)\n",
    "syndmus_taiendav_liik_ohe = syndmus_taiendav_liik_ohe.drop(['nan'],axis=1)\n",
    "\n",
    "liigid_ohe = liigid_ohe.rename(columns={'MUU': 'MUU_KohtLiik'})\n",
    "syndmus_liik_ohe = syndmus_liik_ohe.rename(columns={'MUU': 'MUU_SyndmusLiik'})\n",
    "syndmus_taiendav_liik_ohe = syndmus_taiendav_liik_ohe.rename(columns={'MUU': 'MUU_SyndmusTaiendavStatLiik','KELMUS':'KELMUS_SyndmusTaiendavStatLiik','METSAVARGUS':'METSAVARGUS_SyndmusTaiendavStatLiik'})\n"
   ]
  },
  {
   "cell_type": "code",
   "execution_count": 58,
   "metadata": {},
   "outputs": [
    {
     "data": {
      "text/html": [
       "<div>\n",
       "<style scoped>\n",
       "    .dataframe tbody tr th:only-of-type {\n",
       "        vertical-align: middle;\n",
       "    }\n",
       "\n",
       "    .dataframe tbody tr th {\n",
       "        vertical-align: top;\n",
       "    }\n",
       "\n",
       "    .dataframe thead th {\n",
       "        text-align: right;\n",
       "    }\n",
       "</style>\n",
       "<table border=\"1\" class=\"dataframe\">\n",
       "  <thead>\n",
       "    <tr style=\"text-align: right;\">\n",
       "      <th></th>\n",
       "      <th>SyndmusLiik</th>\n",
       "      <th>SyndmusTaiendavStatLiik</th>\n",
       "      <th>Paragrahv</th>\n",
       "      <th>Loige</th>\n",
       "      <th>Kahjusumma</th>\n",
       "      <th>KohtLiik</th>\n",
       "      <th>SoidukLiik</th>\n",
       "      <th>SoidukMark</th>\n",
       "      <th>SoidukVlAasta</th>\n",
       "      <th>SyyteoLiik</th>\n",
       "    </tr>\n",
       "  </thead>\n",
       "  <tbody>\n",
       "    <tr>\n",
       "      <th>0</th>\n",
       "      <td>VARGUS</td>\n",
       "      <td>MOBIILTELEFONIVARGUS,TASKUVARGUS</td>\n",
       "      <td>§ 199.</td>\n",
       "      <td>lg. 1.</td>\n",
       "      <td>500-4999</td>\n",
       "      <td>AVALIK_KOHT,TANAV_VALJAK</td>\n",
       "      <td>NaN</td>\n",
       "      <td>NaN</td>\n",
       "      <td>NaN</td>\n",
       "      <td>KT</td>\n",
       "    </tr>\n",
       "    <tr>\n",
       "      <th>1</th>\n",
       "      <td>VARGUS</td>\n",
       "      <td>MOBIILTELEFONIVARGUS,TASKUVARGUS</td>\n",
       "      <td>§ 199.</td>\n",
       "      <td>lg. 1.</td>\n",
       "      <td>500-4999</td>\n",
       "      <td>AVALIK_KOHT,UHISSOIDUK</td>\n",
       "      <td>NaN</td>\n",
       "      <td>NaN</td>\n",
       "      <td>NaN</td>\n",
       "      <td>KT</td>\n",
       "    </tr>\n",
       "    <tr>\n",
       "      <th>2</th>\n",
       "      <td>PISIVARGUS</td>\n",
       "      <td>NaN</td>\n",
       "      <td>§ 218.</td>\n",
       "      <td>lg. 1.</td>\n",
       "      <td>0-499</td>\n",
       "      <td>TANAV_VALJAK</td>\n",
       "      <td>NaN</td>\n",
       "      <td>NaN</td>\n",
       "      <td>NaN</td>\n",
       "      <td>VT</td>\n",
       "    </tr>\n",
       "    <tr>\n",
       "      <th>3</th>\n",
       "      <td>JALGRATTA_MOPEEDI_VARGUS</td>\n",
       "      <td>JALGRATTAVARGUS</td>\n",
       "      <td>§ 199.</td>\n",
       "      <td>lg. 1.</td>\n",
       "      <td>500-4999</td>\n",
       "      <td>AVALIK_KOHT</td>\n",
       "      <td>NaN</td>\n",
       "      <td>NaN</td>\n",
       "      <td>NaN</td>\n",
       "      <td>KT</td>\n",
       "    </tr>\n",
       "    <tr>\n",
       "      <th>4</th>\n",
       "      <td>VARGUS</td>\n",
       "      <td>MOBIILTELEFONIVARGUS</td>\n",
       "      <td>§ 199.</td>\n",
       "      <td>lg. 1.</td>\n",
       "      <td>0-499</td>\n",
       "      <td>AVALIK_KOHT</td>\n",
       "      <td>NaN</td>\n",
       "      <td>NaN</td>\n",
       "      <td>NaN</td>\n",
       "      <td>KT</td>\n",
       "    </tr>\n",
       "  </tbody>\n",
       "</table>\n",
       "</div>"
      ],
      "text/plain": [
       "                SyndmusLiik           SyndmusTaiendavStatLiik Paragrahv  \\\n",
       "0                    VARGUS  MOBIILTELEFONIVARGUS,TASKUVARGUS    § 199.   \n",
       "1                    VARGUS  MOBIILTELEFONIVARGUS,TASKUVARGUS    § 199.   \n",
       "2                PISIVARGUS                               NaN    § 218.   \n",
       "3  JALGRATTA_MOPEEDI_VARGUS                   JALGRATTAVARGUS    § 199.   \n",
       "4                    VARGUS              MOBIILTELEFONIVARGUS    § 199.   \n",
       "\n",
       "    Loige Kahjusumma                  KohtLiik SoidukLiik SoidukMark  \\\n",
       "0  lg. 1.   500-4999  AVALIK_KOHT,TANAV_VALJAK        NaN        NaN   \n",
       "1  lg. 1.   500-4999    AVALIK_KOHT,UHISSOIDUK        NaN        NaN   \n",
       "2  lg. 1.      0-499              TANAV_VALJAK        NaN        NaN   \n",
       "3  lg. 1.   500-4999               AVALIK_KOHT        NaN        NaN   \n",
       "4  lg. 1.      0-499               AVALIK_KOHT        NaN        NaN   \n",
       "\n",
       "  SoidukVlAasta SyyteoLiik  \n",
       "0           NaN         KT  \n",
       "1           NaN         KT  \n",
       "2           NaN         VT  \n",
       "3           NaN         KT  \n",
       "4           NaN         KT  "
      ]
     },
     "execution_count": 58,
     "metadata": {},
     "output_type": "execute_result"
    }
   ],
   "source": [
    "data[['SyndmusLiik', 'SyndmusTaiendavStatLiik','Paragrahv',\n",
    "      'Loige','Kahjusumma','KohtLiik','SoidukLiik', 'SoidukMark','SoidukVlAasta','SyyteoLiik']].head()"
   ]
  },
  {
   "cell_type": "code",
   "execution_count": 59,
   "metadata": {},
   "outputs": [
    {
     "data": {
      "text/plain": [
       "0-499         84632\n",
       "500-4999      21916\n",
       "5000-49999     2317\n",
       "50000-x         211\n",
       "Name: Kahjusumma, dtype: int64"
      ]
     },
     "execution_count": 59,
     "metadata": {},
     "output_type": "execute_result"
    }
   ],
   "source": [
    "data['Kahjusumma'].value_counts()"
   ]
  },
  {
   "cell_type": "code",
   "execution_count": 60,
   "metadata": {},
   "outputs": [
    {
     "data": {
      "text/plain": [
       "0.6182268268084716"
      ]
     },
     "execution_count": 60,
     "metadata": {},
     "output_type": "execute_result"
    }
   ],
   "source": [
    "from sklearn.ensemble import RandomForestClassifier\n",
    "\n",
    "\n",
    "test_df = pd.get_dummies(data[['Paragrahv', 'Kahjusumma','Loige', \"SoidukLiik\",'SoidukMark','SyyteoLiik', 'SoidukVlAasta']], columns=['Paragrahv', 'Loige', \"SoidukLiik\",'SoidukMark','SyyteoLiik', 'SoidukVlAasta'])\n",
    "#test_df = pd.get_dummies(data[['Paragrahv', 'Kahjusumma','Loige','SyyteoLiik']], columns=['Paragrahv', 'Loige','SyyteoLiik'])\n",
    "\n",
    "#test_df = pd.DataFrame(data['Kahjusumma'], index=data.index)\n",
    "test_df = test_df[~test_df['Kahjusumma'].isna()]\n",
    "\n",
    "\n",
    "test_df = test_df.join(liigid_ohe)\n",
    "test_df = test_df.join(syndmus_liik_ohe)\n",
    "test_df = test_df.join(syndmus_taiendav_liik_ohe)\n",
    "\n",
    "train = []\n",
    "test = []\n",
    "\n",
    "#random 20% samples from each cost class:\n",
    "for col in test_df['Kahjusumma'].unique():\n",
    "    sample_index = test_df[test_df['Kahjusumma'] == col].sample(frac=0.2).index\n",
    "    train.append(test_df[~(test_df.index.isin(sample_index))& (test_df['Kahjusumma'] == col)]) \n",
    "    test.append(test_df[(test_df.index.isin(sample_index))& (test_df['Kahjusumma'] == col)]) \n",
    "\n",
    "training = pd.concat(train)\n",
    "testing = pd.concat(test)\n",
    "\n",
    "# training = pd.concat([training[training['Kahjusumma'] == '50000-x'] for i in range(0,400)] +\n",
    "#                   [training[training['Kahjusumma'] ==  '5000-49999'] for i in range(0,40)]+\n",
    "#                   [training[training['Kahjusumma'] ==  '500-4999'] for i in range(0,4)]+\n",
    "#                   [training[training['Kahjusumma'] ==  '0-499']]).reset_index(drop=True)\n",
    "\n",
    "#test_df['weights'] = test_df['Kahjusumma'].apply(lambda x: 250 if(x == '0-499')else(2500 if x=='500-4999' else (25000 if x=='5000-49999' else 50001)))\n",
    "\n",
    "# X_train, X_test, y_train, y_test = train_test_split(test_df.drop(columns=['Kahjusumma']).values,test_df['Kahjusumma'].values, test_size=0.33, random_state=42)\n",
    "\n",
    "\n",
    "\n",
    "X_train = training.drop(columns=['Kahjusumma'])\n",
    "y_train = training['Kahjusumma']\n",
    "X_test = testing.drop(columns=['Kahjusumma'])\n",
    "y_test= testing['Kahjusumma']\n",
    "\n",
    "weights_train = pd.Series(y_train).apply(lambda x: 250 if(x == '0-499')else(2500 if x=='500-4999' else (25000 if x=='5000-49999' else 50001)))\n",
    "weights_test = pd.Series(y_test).apply(lambda x: 250 if(x == '0-499')else(2500 if x=='500-4999' else (25000 if x=='5000-49999' else 50001)))\n",
    "\n",
    "rfc = RandomForestClassifier(class_weight={'0-499':250,'500-4999':2500,'5000-49999':25000,'50000-x':50000})\n",
    "#rfc = RandomForestClassifier()\n",
    "rfc.fit(X_train, y_train)\n",
    "rfc.score(X_test, y_test)\n"
   ]
  },
  {
   "cell_type": "code",
   "execution_count": 75,
   "metadata": {},
   "outputs": [
    {
     "data": {
      "text/plain": [
       "((87262, 295), (21814, 295))"
      ]
     },
     "execution_count": 75,
     "metadata": {},
     "output_type": "execute_result"
    }
   ],
   "source": [
    "training.shape,testing.shape"
   ]
  },
  {
   "cell_type": "code",
   "execution_count": 61,
   "metadata": {},
   "outputs": [
    {
     "data": {
      "text/plain": [
       "(0.6645160550984391, 0.6211148803520675)"
      ]
     },
     "execution_count": 61,
     "metadata": {},
     "output_type": "execute_result"
    }
   ],
   "source": [
    "from sklearn.model_selection import GridSearchCV\n",
    "\n",
    "gs = GridSearchCV(rfc,param_grid={\"n_estimators\": [5,10,20],\n",
    "                                  \"criterion\": [\"gini\", \"entropy\"],\n",
    "                                     \"max_depth\": [10,100,None],\n",
    "                                       \"class_weight\":[weight_dict],\n",
    "                                     \"min_samples_split\":[5,2],\n",
    "                                     \"min_samples_leaf\": [1,7]}, scoring='accuracy', cv=5)\n",
    "weight_dict = {'0-499':250,'500-4999':2500,'5000-49999':25000,'50000-x':50000};\n",
    "# gs = GridSearchCV(rfc,param_grid={\"class_weight\":[weight_dict],\n",
    "#                                   \"criterion\": [\"gini\", \"entropy\"]}, scoring='accuracy', cv=5)\n",
    "gs.fit(X_train, y_train)\n",
    "\n",
    "gs.score(X_train, y_train), gs.score(X_test,y_test)"
   ]
  },
  {
   "cell_type": "code",
   "execution_count": 62,
   "metadata": {},
   "outputs": [
    {
     "data": {
      "text/plain": [
       "RandomForestClassifier(bootstrap=True,\n",
       "            class_weight={'0-499': 250, '500-4999': 2500, '5000-49999': 25000, '50000-x': 50000},\n",
       "            criterion='entropy', max_depth=None, max_features='auto',\n",
       "            max_leaf_nodes=None, min_impurity_decrease=0.0,\n",
       "            min_impurity_split=None, min_samples_leaf=1,\n",
       "            min_samples_split=2, min_weight_fraction_leaf=0.0,\n",
       "            n_estimators=20, n_jobs=1, oob_score=False, random_state=None,\n",
       "            verbose=0, warm_start=False)"
      ]
     },
     "execution_count": 62,
     "metadata": {},
     "output_type": "execute_result"
    }
   ],
   "source": [
    "gs.best_estimator_"
   ]
  },
  {
   "cell_type": "code",
   "execution_count": 71,
   "metadata": {},
   "outputs": [
    {
     "name": "stdout",
     "output_type": "stream",
     "text": [
      "Weighted accuracy score on test set: \t\t0.5421626673076487\n",
      "Weighted accuracy score on training set: \t0.7405285166077994\n",
      "Weighted ROC AUC on test set: \t\t\t0.7675852325099184\n",
      "Weighted ROC AUC on training set: \t\t0.9182037405958726\n"
     ]
    }
   ],
   "source": [
    "from sklearn.metrics import roc_auc_score, accuracy_score, recall_score, precision_score\n",
    "\n",
    "print(\"Weighted accuracy score on test set: \\t\\t\" + str(accuracy_score(y_test, gs.predict(X_test), sample_weight=weights_test)))\n",
    "print(\"Weighted accuracy score on training set: \\t\" + str(accuracy_score(y_train, gs.predict(X_train), sample_weight=weights_train)))\n",
    "print(\"Weighted ROC AUC on test set: \\t\\t\\t\" + str(roc_auc_score(pd.get_dummies(y_test).values,gs.predict_proba(X_test), sample_weight=weights_test)))\n",
    "print(\"Weighted ROC AUC on training set: \\t\\t\" + str(roc_auc_score(pd.get_dummies(y_train).values,gs.predict_proba(X_train), sample_weight=weights_train)))"
   ]
  },
  {
   "cell_type": "code",
   "execution_count": 72,
   "metadata": {},
   "outputs": [
    {
     "data": {
      "image/png": "[encoded data removed]",
      "text/plain": [
       "<Figure size 432x288 with 1 Axes>"
      ]
     },
     "metadata": {},
     "output_type": "display_data"
    }
   ],
   "source": [
    "import matplotlib.pyplot as plt\n",
    "import numpy as np\n",
    "\n",
    "def get_xy(probs, val):\n",
    "    cutoffs = pd.DataFrame({\"cutoff\": np.unique(probs)})\n",
    "    cutoffs = cutoffs.sort_values(\"cutoff\")\n",
    "    tpr = cutoffs.apply(lambda cut: np.sum(np.logical_and(probs >= cut[0], val.y == 1)) / np.sum(val.y == 1), axis=1)\n",
    "    fpr = cutoffs.apply(lambda cut: np.sum(np.logical_and(probs >= cut[0], val.y == 0)) / np.sum(val.y == 0), axis=1)\n",
    "    stats = pd.DataFrame({'cutoff':cutoffs.cutoff, 'tpr':tpr, 'fpr':fpr})\n",
    "    return stats['fpr'].values,stats['tpr'].values\n",
    "\n",
    "\n",
    "for column, category in zip(gs.predict_proba(X_test).T,gs.classes_):\n",
    "    val = pd.DataFrame()\n",
    "    val['y'] = pd.Series(y_test).apply(lambda x: x==category)\n",
    "    x, y = get_xy(column, val)\n",
    "    plt.plot(x,y, label=category)\n",
    "plt.legend()\n",
    "plt.savefig(\"auc_plot\")"
   ]
  }
 ],
 "metadata": {
  "kernelspec": {
   "display_name": "Python 3",
   "language": "python",
   "name": "python3"
  },
  "language_info": {
   "codemirror_mode": {
    "name": "ipython",
    "version": 3
   },
   "file_extension": ".py",
   "mimetype": "text/x-python",
   "name": "python",
   "nbconvert_exporter": "python",
   "pygments_lexer": "ipython3",
   "version": "3.6.5"
  }
 },
 "nbformat": 4,
 "nbformat_minor": 2
}
